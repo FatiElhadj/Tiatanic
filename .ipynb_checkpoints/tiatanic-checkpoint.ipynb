{
 "cells": [
  {
   "cell_type": "markdown",
   "id": "acde6709-e855-4e31-aefd-c9320f4fbb5e",
   "metadata": {},
   "source": [
    "## Upload the dataset"
   ]
  },
  {
   "cell_type": "code",
   "execution_count": 2,
   "id": "adf83608-946f-444b-a7e0-6c66711d2553",
   "metadata": {},
   "outputs": [],
   "source": [
    "# importing "
   ]
  },
  {
   "cell_type": "code",
   "execution_count": 4,
   "id": "72db449d-f4a6-4485-9c16-feeab58f4720",
   "metadata": {},
   "outputs": [],
   "source": [
    "import numpy as np\n",
    "import pandas as pd"
   ]
  },
  {
   "cell_type": "code",
   "execution_count": null,
   "id": "e0234e76-c258-4f5d-a6c0-c0f9e7dba8ca",
   "metadata": {},
   "outputs": [],
   "source": [
    "##selam"
   ]
  },
  {
   "cell_type": "code",
   "execution_count": null,
   "id": "70b28aa8-93b4-4d7f-be7e-e8415c23de8d",
   "metadata": {},
   "outputs": [],
   "source": []
  },
  {
   "cell_type": "code",
   "execution_count": null,
   "id": "43be9ebc-6abc-4e99-b7c8-6a30309299f2",
   "metadata": {},
   "outputs": [],
   "source": []
  },
  {
   "cell_type": "code",
   "execution_count": null,
   "id": "4815c728-8c05-42bb-8bcf-24bca0878f58",
   "metadata": {},
   "outputs": [],
   "source": []
  }
 ],
 "metadata": {
  "kernelspec": {
   "display_name": "Python 3 (ipykernel)",
   "language": "python",
   "name": "python3"
  },
  "language_info": {
   "codemirror_mode": {
    "name": "ipython",
    "version": 3
   },
   "file_extension": ".py",
   "mimetype": "text/x-python",
   "name": "python",
   "nbconvert_exporter": "python",
   "pygments_lexer": "ipython3",
   "version": "3.11.7"
  }
 },
 "nbformat": 4,
 "nbformat_minor": 5
}
